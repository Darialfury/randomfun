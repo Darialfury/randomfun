{
 "cells": [
  {
   "cell_type": "markdown",
   "metadata": {},
   "source": [
    "# Classic algorithms"
   ]
  },
  {
   "cell_type": "code",
   "execution_count": 1,
   "metadata": {},
   "outputs": [],
   "source": [
    "import numpy as np"
   ]
  },
  {
   "cell_type": "code",
   "execution_count": 17,
   "metadata": {},
   "outputs": [],
   "source": [
    "graph = [[0, 4, 0, 0, 0, 0, 0, 8, 0], \n",
    "[4, 0, 8, 0, 0, 0, 0, 11, 0], \n",
    "[0, 8, 0, 7, 0, 4, 0, 0, 2], \n",
    "[0, 0, 7, 0, 9, 14, 0, 0, 0], \n",
    "[0, 0, 0, 9, 0, 10, 0, 0, 0], \n",
    "[0, 0, 4, 14, 10, 0, 2, 0, 0], \n",
    "[0, 0, 0, 0, 0, 2, 0, 1, 6], \n",
    "[8, 11, 0, 0, 0, 0, 1, 0, 7], \n",
    "[0, 0, 2, 0, 0, 0, 6, 7, 0]]\n",
    "\n",
    "def find_min_distance(dist, check_vertex):\n",
    "    min_value = np.inf\n",
    "    min_index = 0\n",
    "    for i in range(len(dist)):\n",
    "        if (dist[i] < min_value) and (not check_vertex[i]):\n",
    "            min_value = dist[i]\n",
    "            min_index = i\n",
    "    return min_index\n",
    "\n",
    "def print_graph(dist):\n",
    "    \"\"\"\n",
    "    print distances\n",
    "    \"\"\"\n",
    "    print(\"Vertex distance from source\")\n",
    "    for i in range(len(dist)):\n",
    "        print(dist[i])"
   ]
  },
  {
   "cell_type": "code",
   "execution_count": null,
   "metadata": {},
   "outputs": [],
   "source": []
  },
  {
   "cell_type": "code",
   "execution_count": 19,
   "metadata": {},
   "outputs": [
    {
     "name": "stdout",
     "output_type": "stream",
     "text": [
      "[0, inf, inf, inf, inf, inf, inf, inf, inf]\n"
     ]
    }
   ],
   "source": [
    "ver = 0\n",
    "# initialize distances and flag if vertex is already checked\n",
    "dist, check_vertex = list(), list()\n",
    "for i in range(len(graph)):\n",
    "    dist.append(np.inf)\n",
    "    check_vertex.append(False)\n",
    "\n",
    "#distance from source to itself is zero\n",
    "dist[ver] = 0\n",
    "print(dist)"
   ]
  },
  {
   "cell_type": "code",
   "execution_count": 20,
   "metadata": {},
   "outputs": [
    {
     "name": "stdout",
     "output_type": "stream",
     "text": [
      "0\n",
      "1\n",
      "7\n",
      "6\n",
      "5\n",
      "2\n",
      "8\n",
      "3\n",
      "Vertex distance from source\n",
      "0\n",
      "4\n",
      "12\n",
      "19\n",
      "21\n",
      "11\n",
      "9\n",
      "8\n",
      "14\n"
     ]
    }
   ],
   "source": [
    "for i in range(len(graph) - 1):\n",
    "    vertex_min = find_min_distance(dist, check_vertex)\n",
    "    check_vertex[vertex_min] = True\n",
    "    \n",
    "    # update distances\n",
    "    for v in range(len(graph)):\n",
    "        if (not check_vertex[v]) and (graph[vertex_min][v] != 0) and (dist[vertex_min] != np.inf) and ((dist[vertex_min]+graph[vertex_min][v]) < dist[v]):\n",
    "            \n",
    "            dist[v] = dist[vertex_min] + graph[vertex_min][v]\n",
    "\n",
    "print_graph(dist)"
   ]
  },
  {
   "cell_type": "code",
   "execution_count": 18,
   "metadata": {},
   "outputs": [
    {
     "name": "stdout",
     "output_type": "stream",
     "text": [
      "[0, inf, inf, inf, inf, inf, inf, inf, inf]\n",
      "[False, False, False, False, False, False, False, False, False]\n",
      "0\n"
     ]
    }
   ],
   "source": [
    "print(dist)\n",
    "print(check_vertex)\n",
    "vertex_min = find_min_distance(dist, check_vertex)\n",
    "print(vertex_min)"
   ]
  },
  {
   "cell_type": "code",
   "execution_count": 13,
   "metadata": {},
   "outputs": [
    {
     "data": {
      "text/plain": [
       "True"
      ]
     },
     "execution_count": 13,
     "metadata": {},
     "output_type": "execute_result"
    }
   ],
   "source": [
    "0 < np.inf"
   ]
  },
  {
   "cell_type": "code",
   "execution_count": null,
   "metadata": {},
   "outputs": [],
   "source": []
  }
 ],
 "metadata": {
  "kernelspec": {
   "display_name": "Python 3",
   "language": "python",
   "name": "python3"
  },
  "language_info": {
   "codemirror_mode": {
    "name": "ipython",
    "version": 3
   },
   "file_extension": ".py",
   "mimetype": "text/x-python",
   "name": "python",
   "nbconvert_exporter": "python",
   "pygments_lexer": "ipython3",
   "version": "3.7.0"
  }
 },
 "nbformat": 4,
 "nbformat_minor": 2
}
