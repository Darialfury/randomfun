{
 "cells": [
  {
   "cell_type": "code",
   "execution_count": 1,
   "metadata": {},
   "outputs": [],
   "source": [
    "import numpy as np\n",
    "from sklearn.datasets import load_iris"
   ]
  },
  {
   "cell_type": "code",
   "execution_count": 2,
   "metadata": {},
   "outputs": [],
   "source": [
    "#load data\n",
    "dataset = load_iris()"
   ]
  },
  {
   "cell_type": "code",
   "execution_count": 13,
   "metadata": {},
   "outputs": [],
   "source": [
    "class svmClassifier(object):\n",
    "    def __init__(self, X, Y):\n",
    "        \"\"\"\n",
    "        Input\n",
    "        X: training data\n",
    "        Y: training labels\n",
    "        \"\"\"\n",
    "        self.numIterations = 20 \n",
    "        self.Xdata = np.concatenate([X, np.ones([X.shape[0], 1])], axis=1)\n",
    "        self.Ylabels = Y\n",
    "        self.W = np.zeros([self.Xdata.shape[1], np.max(Y) + 1])\n",
    "        #self.W = np.concatenate([self.W, np.ones([1, np.max(Y) + 1])], axis=0)\n",
    "    def train(self):\n",
    "        \"\"\"\n",
    "        Method for training the svm. It updates the W parameters\n",
    "        \"\"\"\n",
    "        dotXW = np.dot(self.Xdata, self.W)\n",
    "        dW = np.zeros(self.W.shape)\n",
    "        loss = 0.0\n",
    "        for k in range(self.numIterations):\n",
    "            pass\n",
    "    def getW(self):\n",
    "        \"\"\"\n",
    "        Testing method to get W\n",
    "        output\n",
    "        W: parameters from classifier\n",
    "        \"\"\"\n",
    "        return self.W"
   ]
  },
  {
   "cell_type": "code",
   "execution_count": null,
   "metadata": {},
   "outputs": [],
   "source": []
  },
  {
   "cell_type": "code",
   "execution_count": 14,
   "metadata": {},
   "outputs": [
    {
     "name": "stdout",
     "output_type": "stream",
     "text": [
      "150\n"
     ]
    }
   ],
   "source": [
    "X = dataset.data\n",
    "Y = dataset.target\n",
    "print(X.shape[0])"
   ]
  },
  {
   "cell_type": "code",
   "execution_count": 15,
   "metadata": {},
   "outputs": [],
   "source": [
    "svm  = svmClassifier(X, Y)"
   ]
  },
  {
   "cell_type": "code",
   "execution_count": 16,
   "metadata": {},
   "outputs": [
    {
     "name": "stdout",
     "output_type": "stream",
     "text": [
      "(5, 3) [0. 0. 0. 0. 0.]\n"
     ]
    }
   ],
   "source": [
    "wp = svm.getW()\n",
    "print(wp.shape, wp[:,0])"
   ]
  },
  {
   "cell_type": "code",
   "execution_count": null,
   "metadata": {},
   "outputs": [],
   "source": [
    "a = np.array([[1,1,2],[1,2,3]])\n",
    "b = np.array([[1, 2],[2, 2],[3,1]])\n",
    "print(a.shape, b.shape)"
   ]
  },
  {
   "cell_type": "code",
   "execution_count": null,
   "metadata": {},
   "outputs": [],
   "source": [
    "print(np.dot(a, b))\n",
    "print(np.ones(3))"
   ]
  },
  {
   "cell_type": "code",
   "execution_count": null,
   "metadata": {},
   "outputs": [],
   "source": []
  }
 ],
 "metadata": {
  "kernelspec": {
   "display_name": "Python 3",
   "language": "python",
   "name": "python3"
  },
  "language_info": {
   "codemirror_mode": {
    "name": "ipython",
    "version": 3
   },
   "file_extension": ".py",
   "mimetype": "text/x-python",
   "name": "python",
   "nbconvert_exporter": "python",
   "pygments_lexer": "ipython3",
   "version": "3.7.0"
  }
 },
 "nbformat": 4,
 "nbformat_minor": 2
}
