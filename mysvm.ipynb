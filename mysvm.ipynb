{
 "cells": [
  {
   "cell_type": "code",
   "execution_count": 1,
   "metadata": {},
   "outputs": [],
   "source": [
    "import numpy as np\n",
    "from sklearn.datasets import load_iris"
   ]
  },
  {
   "cell_type": "code",
   "execution_count": 2,
   "metadata": {},
   "outputs": [],
   "source": [
    "#load data\n",
    "dataset = load_iris()"
   ]
  },
  {
   "cell_type": "code",
   "execution_count": 23,
   "metadata": {},
   "outputs": [],
   "source": [
    "class svmClassifier(object):\n",
    "    def __init__(self, X, Y, numIterations=100, reg=1, delta=1):\n",
    "        \"\"\"\n",
    "        Input\n",
    "        X: training data\n",
    "        Y: training labels\n",
    "        \"\"\"\n",
    "        self.numIterations = numIterations\n",
    "        self.reg = reg\n",
    "        # bias trick, add row of ones to input\n",
    "        self.Xdata = np.concatenate([X, np.ones([X.shape[0], 1])], axis=1)\n",
    "        self.Ylabels = Y\n",
    "        print(\"shape\", self.Xdata.shape)\n",
    "        #self.W = np.zeros([self.Xdata.shape[1], np.max(Y) + 1])\n",
    "        self.W = np.random.randn(self.Xdata.shape[1], np.max(Y) + 1) * 0.0001\n",
    "        print(\"w\", self.W.shape)\n",
    "        self.delta = delta\n",
    "    def loss(self):\n",
    "        numTrain = self.Xdata.shape[0]\n",
    "        numClasses = np.max(Y) + 1\n",
    "        dotXW = np.dot(self.Xdata, self.W)\n",
    "        dW = np.zeros(self.W.shape)\n",
    "        loss = 0.0\n",
    "        deltas = self.delta*np.ones(dotXW.shape)\n",
    "        scorePos = dotXW[np.arange(numTrain), Y]\n",
    "        scorePosMatrix = np.repeat(np.array([scorePos,]).transpose(), numClasses, axis=1)\n",
    "        \n",
    "        # loss computation\n",
    "        print(dotXW.shape)\n",
    "        print(scorePosMatrix.shape)\n",
    "        argHinge = dotXW - scorePosMatrix + deltas\n",
    "        argHinge[np.arange(numTrain), Y] = 0\n",
    "        idx = argHinge > 0\n",
    "        evalHinge = argHinge * idx\n",
    "        loss = np.sum(evalHinge)\n",
    "        loss /= numTrain\n",
    "        loss += self.reg * np.sum(self.W*self.W)\n",
    "        \n",
    "        # gradients computation\n",
    "        Xmat = np.zeros(dotXW.shape)\n",
    "        Xmat[idx] = 1\n",
    "        numIncorrect = -1 * np.sum(Xmat, axis=1)\n",
    "        Xmat[np.arange(numTrain), Y] = numIncorrect\n",
    "\n",
    "        dW = np.dot(self.Xdata.T, Xmat)\n",
    "        dW /= numTrain\n",
    "        dW += 2*self.reg*self.W\n",
    "        return loss, dW\n",
    "    def train(self):\n",
    "        \"\"\"\n",
    "        Method for training the svm. It updates the W parameters\n",
    "        \"\"\"\n",
    "        pass\n",
    "    def getW(self):\n",
    "        \"\"\"\n",
    "        Testing method to get W\n",
    "        output\n",
    "        W: parameters from classifier\n",
    "        \"\"\"\n",
    "        return self.W"
   ]
  },
  {
   "cell_type": "code",
   "execution_count": null,
   "metadata": {},
   "outputs": [],
   "source": []
  },
  {
   "cell_type": "code",
   "execution_count": 24,
   "metadata": {},
   "outputs": [
    {
     "name": "stdout",
     "output_type": "stream",
     "text": [
      "[[5.1 3.5 1.4 0.2]\n",
      " [4.9 3.  1.4 0.2]\n",
      " [4.7 3.2 1.3 0.2]\n",
      " [4.6 3.1 1.5 0.2]] [0 0 0 0]\n"
     ]
    }
   ],
   "source": [
    "X = dataset.data\n",
    "Y = dataset.target\n",
    "print(X[:4], Y[:4])"
   ]
  },
  {
   "cell_type": "code",
   "execution_count": 25,
   "metadata": {},
   "outputs": [
    {
     "name": "stdout",
     "output_type": "stream",
     "text": [
      "shape (150, 5)\n",
      "w (5, 3)\n"
     ]
    }
   ],
   "source": [
    "svm  = svmClassifier(X, Y)"
   ]
  },
  {
   "cell_type": "code",
   "execution_count": null,
   "metadata": {},
   "outputs": [],
   "source": [
    "wp = svm.getW()\n",
    "print(wp.shape, wp[:,0])"
   ]
  },
  {
   "cell_type": "code",
   "execution_count": null,
   "metadata": {},
   "outputs": [],
   "source": [
    "a = np.array([[1,1,2],[1,2,3]])\n",
    "b = np.array([[1, 2],[2, 2],[3,1]])\n",
    "print(a.shape, b.shape)\n",
    "print(np.dot(a, b))"
   ]
  },
  {
   "cell_type": "code",
   "execution_count": null,
   "metadata": {},
   "outputs": [],
   "source": [
    "print(a)\n",
    "print(\"transpose\")\n",
    "print(a.T)\n",
    "print(np.arange(2))\n",
    "z = a[np.arange(2),[0,2]]\n",
    "print(\"smell\", z, z.transpose())\n",
    "c = np.repeat(np.array([z,]).transpose(), 3, axis=1)\n",
    "print(c, np.sum(c, axis=0))\n",
    "print(a - c)"
   ]
  },
  {
   "cell_type": "code",
   "execution_count": null,
   "metadata": {},
   "outputs": [],
   "source": [
    "idx = a > 1\n",
    "print(idx)\n",
    "print(a*idx)\n",
    "print(np.sum(a*idx))"
   ]
  },
  {
   "cell_type": "code",
   "execution_count": 26,
   "metadata": {},
   "outputs": [
    {
     "name": "stdout",
     "output_type": "stream",
     "text": [
      "(150, 3)\n",
      "(150, 3)\n",
      "(2.0001550046715435, array([[ 8.37097074e-01, -9.24055437e-02, -7.44882025e-01],\n",
      "       [-3.70565389e-01,  2.87387396e-01,  8.34623696e-02],\n",
      "       [ 2.29611735e+00, -5.02144267e-01, -1.79410029e+00],\n",
      "       [ 9.53269345e-01, -1.26662134e-01, -8.26572930e-01],\n",
      "       [-2.66034116e-04,  9.93857515e-05, -2.61524232e-04]]))\n"
     ]
    }
   ],
   "source": [
    "# check loss and gradient\n",
    "print(svm.loss())"
   ]
  },
  {
   "cell_type": "code",
   "execution_count": null,
   "metadata": {},
   "outputs": [],
   "source": []
  }
 ],
 "metadata": {
  "kernelspec": {
   "display_name": "Python 3",
   "language": "python",
   "name": "python3"
  },
  "language_info": {
   "codemirror_mode": {
    "name": "ipython",
    "version": 3
   },
   "file_extension": ".py",
   "mimetype": "text/x-python",
   "name": "python",
   "nbconvert_exporter": "python",
   "pygments_lexer": "ipython3",
   "version": "3.7.0"
  }
 },
 "nbformat": 4,
 "nbformat_minor": 2
}
