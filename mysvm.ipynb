{
 "cells": [
  {
   "cell_type": "code",
   "execution_count": 2,
   "metadata": {},
   "outputs": [],
   "source": [
    "import numpy as np\n",
    "from sklearn.datasets import load_iris"
   ]
  },
  {
   "cell_type": "code",
   "execution_count": 3,
   "metadata": {},
   "outputs": [],
   "source": [
    "#load data\n",
    "dataset = load_iris()"
   ]
  },
  {
   "cell_type": "code",
   "execution_count": 4,
   "metadata": {},
   "outputs": [],
   "source": [
    "class svmClassifier(object):\n",
    "    def __init__(self, X, Y, numIterations=100, reg=1, delta=1):\n",
    "        \"\"\"\n",
    "        Input\n",
    "        X: training data\n",
    "        Y: training labels\n",
    "        \"\"\"\n",
    "        self.numIterations = numIterations\n",
    "        self.reg = reg\n",
    "        # bias trick, add row of ones to input\n",
    "        self.Xdata = np.concatenate([X, np.ones([X.shape[0], 1])], axis=1)\n",
    "        self.Ylabels = Y\n",
    "        self.W = np.zeros([self.Xdata.shape[1], np.max(Y) + 1])\n",
    "    def loss(self):\n",
    "        numTrain = self.Xdata.shape[0]\n",
    "        numClasses = np.max(Y)\n",
    "        dotXW = np.dot(self.Xdata, self.W)\n",
    "        dW = np.zeros(self.W.shape)\n",
    "        loss = 0.0\n",
    "        deltas = delta*np.ones(dotXW.shape)\n",
    "        scorePos = dotXW[np.arange(numTrain), Y]\n",
    "        scorePosMatrix = np.repeat(np.array([scorePos,]).transpose(), numClasses, axis=1)\n",
    "        \n",
    "        # loss computation\n",
    "        argHinge = dotXW - scorePosMatrix + deltas\n",
    "        argHinge[np.arange(numTrain), Y] = 0\n",
    "        idx = argHinge > 0\n",
    "        hingeEval = argHinge * idx\n",
    "        loss = np.sum(hingeEval)\n",
    "        loss /= numTrain\n",
    "        loss += self.reg * np.sum(self.W*self.W)\n",
    "        \n",
    "        # gradients computation\n",
    "        argHinge = dotXW - scorePosMatrix + deltas\n",
    "        argHinge[np.arange(numTrain), Y] = 0\n",
    "        idx = argHinge > 0\n",
    "        evalHinge = argHinge * idx\n",
    "        dW = self.Xdata \n",
    "        dW += 2*self.reg*self.W\n",
    "        return loss, dW\n",
    "    def train(self):\n",
    "        \"\"\"\n",
    "        Method for training the svm. It updates the W parameters\n",
    "        \"\"\"\n",
    "        pass\n",
    "    def getW(self):\n",
    "        \"\"\"\n",
    "        Testing method to get W\n",
    "        output\n",
    "        W: parameters from classifier\n",
    "        \"\"\"\n",
    "        return self.W"
   ]
  },
  {
   "cell_type": "code",
   "execution_count": null,
   "metadata": {},
   "outputs": [],
   "source": []
  },
  {
   "cell_type": "code",
   "execution_count": 9,
   "metadata": {},
   "outputs": [
    {
     "name": "stdout",
     "output_type": "stream",
     "text": [
      "150 [0 0 0 0]\n"
     ]
    }
   ],
   "source": [
    "X = dataset.data\n",
    "Y = dataset.target\n",
    "print(X.shape[0], Y[:4])"
   ]
  },
  {
   "cell_type": "code",
   "execution_count": 6,
   "metadata": {},
   "outputs": [],
   "source": [
    "svm  = svmClassifier(X, Y)"
   ]
  },
  {
   "cell_type": "code",
   "execution_count": 7,
   "metadata": {},
   "outputs": [
    {
     "name": "stdout",
     "output_type": "stream",
     "text": [
      "(5, 3) [0. 0. 0. 0. 0.]\n"
     ]
    }
   ],
   "source": [
    "wp = svm.getW()\n",
    "print(wp.shape, wp[:,0])"
   ]
  },
  {
   "cell_type": "code",
   "execution_count": 8,
   "metadata": {},
   "outputs": [
    {
     "name": "stdout",
     "output_type": "stream",
     "text": [
      "(2, 3) (3, 2)\n"
     ]
    }
   ],
   "source": [
    "a = np.array([[1,1,2],[1,2,3]])\n",
    "b = np.array([[1, 2],[2, 2],[3,1]])\n",
    "print(a.shape, b.shape)"
   ]
  },
  {
   "cell_type": "code",
   "execution_count": 34,
   "metadata": {},
   "outputs": [
    {
     "name": "stdout",
     "output_type": "stream",
     "text": [
      "[[1 1 2]\n",
      " [1 2 3]]\n",
      "[0 1]\n",
      "smell [1 3] [1 3]\n",
      "[[1 1 1]\n",
      " [3 3 3]] [4 4 4]\n",
      "[[ 0  0  1]\n",
      " [-2 -1  0]]\n"
     ]
    }
   ],
   "source": [
    "print(a)\n",
    "print(np.arange(2))\n",
    "z = a[np.arange(2),[0,2]]\n",
    "print(\"smell\", z, z.transpose())\n",
    "c = np.repeat(np.array([z,]).transpose(), 3, axis=1)\n",
    "print(c, np.sum(c, axis=0))\n",
    "print(a - c)"
   ]
  },
  {
   "cell_type": "code",
   "execution_count": null,
   "metadata": {},
   "outputs": [],
   "source": [
    "idx = a > 1\n",
    "print(idx)\n",
    "print(a*idx)\n",
    "print(np.sum(a*idx))"
   ]
  },
  {
   "cell_type": "code",
   "execution_count": null,
   "metadata": {},
   "outputs": [],
   "source": [
    "# check loss and gradient\n"
   ]
  }
 ],
 "metadata": {
  "kernelspec": {
   "display_name": "Python 3",
   "language": "python",
   "name": "python3"
  },
  "language_info": {
   "codemirror_mode": {
    "name": "ipython",
    "version": 3
   },
   "file_extension": ".py",
   "mimetype": "text/x-python",
   "name": "python",
   "nbconvert_exporter": "python",
   "pygments_lexer": "ipython3",
   "version": "3.7.0"
  }
 },
 "nbformat": 4,
 "nbformat_minor": 2
}
